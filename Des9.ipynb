{
  "nbformat": 4,
  "nbformat_minor": 0,
  "metadata": {
    "colab": {
      "provenance": [],
      "authorship_tag": "ABX9TyOdDaT+1SS+BIExjPNxdnQk",
      "include_colab_link": true
    },
    "kernelspec": {
      "name": "python3",
      "display_name": "Python 3"
    },
    "language_info": {
      "name": "python"
    }
  },
  "cells": [
    {
      "cell_type": "markdown",
      "metadata": {
        "id": "view-in-github",
        "colab_type": "text"
      },
      "source": [
        "<a href=\"https://colab.research.google.com/github/DevLuzi/Desenvolvimento/blob/main/Des9.ipynb\" target=\"_parent\"><img src=\"https://colab.research.google.com/assets/colab-badge.svg\" alt=\"Open In Colab\"/></a>"
      ]
    },
    {
      "cell_type": "markdown",
      "source": [
        "1º Código para imprimir um número para cada andar de um hotel de 20 andares, com exceção do 13º andar."
      ],
      "metadata": {
        "id": "rE_GDVeSzOzc"
      }
    },
    {
      "cell_type": "code",
      "source": [
        "andar=21\n",
        "while (andar>1):\n",
        "  andar= andar-1\n",
        "  if (andar == 13):\n",
        "    continue\n",
        "  print(andar,\"º andar\" )"
      ],
      "metadata": {
        "colab": {
          "base_uri": "https://localhost:8080/"
        },
        "id": "YIJRnIeD7iFa",
        "outputId": "fb90a35f-fd07-436a-fbf9-a85bcedaf8a8"
      },
      "execution_count": 94,
      "outputs": [
        {
          "output_type": "stream",
          "name": "stdout",
          "text": [
            "20 º andar\n",
            "19 º andar\n",
            "18 º andar\n",
            "17 º andar\n",
            "16 º andar\n",
            "15 º andar\n",
            "14 º andar\n",
            "12 º andar\n",
            "11 º andar\n",
            "10 º andar\n",
            "9 º andar\n",
            "8 º andar\n",
            "7 º andar\n",
            "6 º andar\n",
            "5 º andar\n",
            "4 º andar\n",
            "3 º andar\n",
            "2 º andar\n",
            "1 º andar\n"
          ]
        }
      ]
    },
    {
      "cell_type": "markdown",
      "source": [
        "2º Código para imprimir um número para cada andar de um hotel de 20 andares, com exceção do 13º andar."
      ],
      "metadata": {
        "id": "arNA8Xpj94qL"
      }
    },
    {
      "cell_type": "code",
      "source": [
        "for andar in range (20):\n",
        "  andar= andar +1\n",
        "  if (andar == 13):\n",
        "    continue\n",
        "  print (andar,'º andar')"
      ],
      "metadata": {
        "colab": {
          "base_uri": "https://localhost:8080/"
        },
        "id": "0WRyIHTK99X4",
        "outputId": "d35fbf01-919b-47fc-c5cf-4e9fecb82531"
      },
      "execution_count": 113,
      "outputs": [
        {
          "output_type": "stream",
          "name": "stdout",
          "text": [
            "1 º andar\n",
            "2 º andar\n",
            "3 º andar\n",
            "4 º andar\n",
            "5 º andar\n",
            "6 º andar\n",
            "7 º andar\n",
            "8 º andar\n",
            "9 º andar\n",
            "10 º andar\n",
            "11 º andar\n",
            "12 º andar\n",
            "14 º andar\n",
            "15 º andar\n",
            "16 º andar\n",
            "17 º andar\n",
            "18 º andar\n",
            "19 º andar\n",
            "20 º andar\n"
          ]
        }
      ]
    },
    {
      "cell_type": "markdown",
      "source": [
        "3º Código para imprimir um número para cada andar de um hotel de 20 andares, com exceção do 13º andar"
      ],
      "metadata": {
        "id": "n0cIVa6o_ZEK"
      }
    },
    {
      "cell_type": "code",
      "source": [
        "for andar in range (0,20,1):\n",
        "  andar= andar +1\n",
        "  if (andar == 13):\n",
        "    continue\n",
        "  print (andar,'º andar')"
      ],
      "metadata": {
        "colab": {
          "base_uri": "https://localhost:8080/"
        },
        "id": "dB7-HZGp_cDX",
        "outputId": "02722652-5535-4ba6-80f0-928a0a0ddc4b"
      },
      "execution_count": 104,
      "outputs": [
        {
          "output_type": "stream",
          "name": "stdout",
          "text": [
            "1 º andar\n",
            "2 º andar\n",
            "3 º andar\n",
            "4 º andar\n",
            "5 º andar\n",
            "6 º andar\n",
            "7 º andar\n",
            "8 º andar\n",
            "9 º andar\n",
            "10 º andar\n",
            "11 º andar\n",
            "12 º andar\n",
            "14 º andar\n",
            "15 º andar\n",
            "16 º andar\n",
            "17 º andar\n",
            "18 º andar\n",
            "19 º andar\n",
            "20 º andar\n"
          ]
        }
      ]
    }
  ]
}