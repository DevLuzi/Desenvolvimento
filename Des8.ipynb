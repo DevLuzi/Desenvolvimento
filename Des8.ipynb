{
  "nbformat": 4,
  "nbformat_minor": 0,
  "metadata": {
    "colab": {
      "provenance": [],
      "authorship_tag": "ABX9TyOQUtHQ0XZrLMgp40GkReqo",
      "include_colab_link": true
    },
    "kernelspec": {
      "name": "python3",
      "display_name": "Python 3"
    },
    "language_info": {
      "name": "python"
    }
  },
  "cells": [
    {
      "cell_type": "markdown",
      "metadata": {
        "id": "view-in-github",
        "colab_type": "text"
      },
      "source": [
        "<a href=\"https://colab.research.google.com/github/DevLuzi/Desenvolvimento/blob/main/Des8.ipynb\" target=\"_parent\"><img src=\"https://colab.research.google.com/assets/colab-badge.svg\" alt=\"Open In Colab\"/></a>"
      ]
    },
    {
      "cell_type": "code",
      "execution_count": null,
      "metadata": {
        "colab": {
          "base_uri": "https://localhost:8080/"
        },
        "id": "41bnRFNdkZWv",
        "outputId": "8bfef076-a5ab-4ac1-90de-d6efb3ef17b2"
      },
      "outputs": [
        {
          "output_type": "stream",
          "name": "stdout",
          "text": [
            "Quantas rodas tem o veículo? 4\n",
            "Quanto pesa o veículo? 4000\n",
            "Quantas pessoas o veículo pode acomodar? 7\n",
            "Categoria C\n"
          ]
        }
      ],
      "source": [
        "\n",
        "roda = int (input ('Quantas rodas tem o veículo? '))\n",
        "peso = int(input ('Quanto pesa o veículo? '))\n",
        "lotacao = int (input ('Quantas pessoas o veículo pode acomodar? '))\n",
        "\n",
        "if roda < 3 and peso:\n",
        "  print('Categoria A')\n",
        "elif roda == 4 and peso <= 3500 and lotacao <= 8 :\n",
        "  print ('Categoria B')\n",
        "elif roda >=4 and peso <= 6000 and lotacao <= 8:\n",
        "  print ('Categoria C')\n",
        "elif  roda >=4 and lotacao < 8:\n",
        "  print ('Categoria D')\n",
        "elif  roda >=4 and peso > 6000:\n",
        "  print ('Categia E')\n",
        " \n",
        "\n"
      ]
    }
  ]
}